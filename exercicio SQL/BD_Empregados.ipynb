{
  "cells": [
    {
      "cell_type": "code",
      "execution_count": 7,
      "metadata": {
        "colab": {
          "base_uri": "https://localhost:8080/"
        },
        "id": "aB5JvcdxT2pe",
        "outputId": "d30531d1-9690-41bf-acca-a63413e011dc"
      },
      "outputs": [
        {
          "name": "stdout",
          "output_type": "stream",
          "text": [
            "Opened database successfully\n",
            "[('James', 'E', 'Borg', '888665555', '1937-11-10', '450 Stone, Houston, TX', 'M', 55000, None, 1), ('Franklin', 'T', 'Wong', '333445555', '1955-12-08', '638 Voss, Houston, TX', 'M', 40000, '888665555', 5), ('John', 'B', 'Smith', '123456789', '1965-01-09', '731 Fondren, Houston, TX', 'M', 30000, '333445555', 5), ('Jennifer', 'S', 'Wallace', '987654321', '1941-06-20', '291 Berry, Bellaire, TX', 'F', 43000, '888665555', 4), ('Alicia', 'J', 'Zelaya', '999887777', '1968-01-19', '3321 Castle, Spring, TX', 'F', 25000, '987654321', 4), ('Ramesh', 'K', 'Narayan', '666884444', '1962-09-15', '975 Fire Oak, Humble, TX', 'M', 38000, '333445555', 5), ('Joyce', 'A', 'English', '453453453', '1972-07-31', '5631 Rice, Houston, TX', 'F', 25000, '333445555', 5), ('Ahmad', 'V', 'Jabbar', '987987987', '1969-03-29', '980 Dallas, Houston, TX', 'M', 25000, '333445555', 5)]\n",
            "Opened database successfully\n"
          ]
        }
      ],
      "source": [
        "import db_utils as db_utils\n",
        "import sqlite3\n",
        "\n",
        "conn = sqlite3.connect('employee.sqlite')\n",
        "print(\"Opened database successfully\")\n",
        "\n",
        "# db_utils.create_db(conn)\n",
        "# db_utils.populate_db(conn)\n",
        "\n",
        "res = conn.execute('SELECT * FROM EMPLOYEE')\n",
        "print(res.fetchall())\n",
        "\n",
        "conn.close()\n",
        "\n",
        "conn = sqlite3.connect('employee.sqlite')\n",
        "print(\"Opened database successfully\")\n"
      ]
    },
    {
      "cell_type": "markdown",
      "metadata": {},
      "source": [
        "## QUESTÃO 1"
      ]
    },
    {
      "cell_type": "code",
      "execution_count": null,
      "metadata": {},
      "outputs": [
        {
          "name": "stdout",
          "output_type": "stream",
          "text": [
            "Resultado CONSULTA 01\n",
            "[('Franklin', 'Wong'), ('Ahmad', 'Jabbar')]\n",
            "-------\n",
            "\n",
            "\n",
            "Resultado CONSULTA 02\n",
            "[('Alice',), ('Joy',), ('Theodore',)]\n",
            "-------\n",
            "\n",
            "\n"
          ]
        }
      ],
      "source": [
        "# CONSULTA 01 - Retorna todos os funcionarios que trabalham no projeto Computerization\n",
        "c1 = conn.execute('''\n",
        "SELECT E.Fname, E.Lname \n",
        "FROM EMPLOYEE AS E \n",
        "    INNER JOIN WORKS_ON AS WO \n",
        "        ON E.ssn = WO.Essn     \n",
        "    INNER JOIN PROJECT AS P\n",
        "        ON P.Pname = 'Computerization' AND WO.Pno = P.Pnumber\n",
        "''')\n",
        "print(\"Resultado CONSULTA 01\")\n",
        "print(c1.fetchall())\n",
        "print(\"-------\")\n",
        "print('\\n')\n",
        "\n",
        "# CONSULTA 02 - Retorna o nome dos dependentes do John Smith\n",
        "c2 = conn.execute('''\n",
        "SELECT D.Dependent_name\n",
        "FROM DEPENDENT AS D\n",
        "    INNER JOIN EMPLOYEE AS E \n",
        "        ON E.ssn = D.Essn AND E.Lname = 'Smith'\n",
        "''')\n",
        "print(\"Resultado CONSULTA 02\")\n",
        "print(c2.fetchall())\n",
        "print(\"-------\")\n",
        "print('\\n')\n",
        "\n",
        "# CONSULTA 03 - Retorna média dos salários de cada departamento\n",
        "\n",
        "# CONSULTA 04\n",
        "\n",
        "# CONSULTA 05"
      ]
    },
    {
      "cell_type": "markdown",
      "metadata": {},
      "source": [
        "## QUESTÃO 2"
      ]
    },
    {
      "cell_type": "code",
      "execution_count": 9,
      "metadata": {},
      "outputs": [
        {
          "name": "stdout",
          "output_type": "stream",
          "text": [
            "Resultado QUESTÃO 02\n",
            "[(1, 1), (4, 1)]\n",
            "-------\n",
            "\n",
            "\n"
          ]
        }
      ],
      "source": [
        "# Último exemplo slide\n",
        "q2_c1 = conn.execute('''\n",
        "SELECT D.Dnumber, COUNT(*)\n",
        "FROM DEPARTMENT AS D, EMPLOYEE AS E\n",
        "WHERE D.Dnumber = E.Dno AND E.SALARY > 40000\n",
        "GROUP BY D.Dnumber\n",
        "''')\n",
        "print(\"Resultado QUESTÃO 02\")\n",
        "print(q2_c1.fetchall())\n",
        "print(\"-------\")\n",
        "print('\\n')"
      ]
    },
    {
      "cell_type": "markdown",
      "metadata": {},
      "source": [
        "Vemos que essa consulta retorna o número dos departamentos que possuem funcionários que recebem mais de 40000 de salário."
      ]
    },
    {
      "cell_type": "code",
      "execution_count": null,
      "metadata": {},
      "outputs": [],
      "source": [
        "# Último exemplo slide - modificado\n",
        "# q2_c1 = conn.execute('''\n",
        "# SELECT D.Dnumber, COUNT(*)\n",
        "# FROM DEPARTMENT AS D, EMPLOYEE AS E\n",
        "# WHERE D.Dnumber = E.Dno AND E.SALARY > 40000 AND D.Dnumber IN (\n",
        "#                      SELECT E.Dno FROM EMPLOYEE AS E GROUP BY E.Dno HAVING COUNT(*) > 5)\n",
        "# GROUP BY D.Dnumber\n",
        "# ''')\n",
        "# print(\"Resultado QUESTÃO 02\")\n",
        "# print(q2_c1.fetchall())\n",
        "# print(\"-------\")\n",
        "# print('\\n')"
      ]
    },
    {
      "cell_type": "markdown",
      "metadata": {},
      "source": [
        "## QUESTÃO 3"
      ]
    },
    {
      "cell_type": "markdown",
      "metadata": {},
      "source": [
        "## QUESTÃO 4"
      ]
    },
    {
      "cell_type": "code",
      "execution_count": 11,
      "metadata": {},
      "outputs": [],
      "source": [
        "conn.close()"
      ]
    }
  ],
  "metadata": {
    "colab": {
      "provenance": []
    },
    "kernelspec": {
      "display_name": "myEnv",
      "language": "python",
      "name": "python3"
    },
    "language_info": {
      "codemirror_mode": {
        "name": "ipython",
        "version": 3
      },
      "file_extension": ".py",
      "mimetype": "text/x-python",
      "name": "python",
      "nbconvert_exporter": "python",
      "pygments_lexer": "ipython3",
      "version": "3.12.4"
    }
  },
  "nbformat": 4,
  "nbformat_minor": 0
}
