{
  "cells": [
    {
      "cell_type": "code",
      "execution_count": 10,
      "metadata": {
        "id": "K7oUj6zgSMIj"
      },
      "outputs": [],
      "source": [
        "\n",
        "# CREATING THE TABLE\n",
        "import sqlite3\n",
        "import pandas as pd"
      ]
    },
    {
      "cell_type": "code",
      "execution_count": 11,
      "metadata": {
        "colab": {
          "base_uri": "https://localhost:8080/"
        },
        "id": "aB5JvcdxT2pe",
        "outputId": "d30531d1-9690-41bf-acca-a63413e011dc"
      },
      "outputs": [
        {
          "name": "stdout",
          "output_type": "stream",
          "text": [
            "Opened database successfully\n",
            "Tables created successfully\n"
          ]
        }
      ],
      "source": [
        "\n",
        "\n",
        "conn = sqlite3.connect('employee.db')\n",
        "print(\"Opened database successfully\");\n",
        "\n",
        "conn.execute('''\n",
        "CREATE TABLE IF NOT EXISTS DEPARTMENT (\n",
        "    Dname VARCHAR(50) NOT NULL,\n",
        "    Dnumber INT PRIMARY KEY,\n",
        "    Mgr_ssn CHAR(9),\n",
        "    Mgr_start_date DATE,\n",
        "    FOREIGN KEY (Mgr_ssn) REFERENCES EMPLOYEE(Ssn)\n",
        ");''')\n",
        "\n",
        "conn.execute('''\n",
        "CREATE TABLE IF NOT EXISTS EMPLOYEE (\n",
        "    Fname VARCHAR(30) NOT NULL,\n",
        "    Minit CHAR(1),\n",
        "    Lname VARCHAR(30) NOT NULL,\n",
        "    Ssn CHAR(9) PRIMARY KEY,\n",
        "    Bdate DATE,\n",
        "    Address VARCHAR(100),\n",
        "    Sex CHAR(1),\n",
        "    Salary DECIMAL(10, 2),\n",
        "    Super_ssn CHAR(9),\n",
        "    Dno INT,\n",
        "    FOREIGN KEY (Super_ssn) REFERENCES EMPLOYEE(Ssn),\n",
        "    FOREIGN KEY (Dno) REFERENCES DEPARTMENT(Dnumber)\n",
        ");''')\n",
        "\n",
        "conn.execute('''\n",
        "CREATE TABLE IF NOT EXISTS DEPT_LOCATIONS (\n",
        "    Dnumber INT,\n",
        "    Dlocation VARCHAR(50),\n",
        "    PRIMARY KEY (Dnumber, Dlocation),\n",
        "    FOREIGN KEY (Dnumber) REFERENCES DEPARTMENT(Dnumber)\n",
        ");''')\n",
        "\n",
        "conn.execute('''\n",
        "CREATE TABLE IF NOT EXISTS PROJECT (\n",
        "    Pname VARCHAR(50) NOT NULL,\n",
        "    Pnumber INT PRIMARY KEY,\n",
        "    Plocation VARCHAR(50),\n",
        "    Dnum INT,\n",
        "    FOREIGN KEY (Dnum) REFERENCES DEPARTMENT(Dnumber)\n",
        ");''')\n",
        "\n",
        "conn.execute('''\n",
        "CREATE TABLE IF NOT EXISTS WORKS_ON (\n",
        "    Essn CHAR(9),\n",
        "    Pno INT,\n",
        "    Hours DECIMAL(5, 2),\n",
        "    PRIMARY KEY (Essn, Pno),\n",
        "    FOREIGN KEY (Essn) REFERENCES EMPLOYEE(Ssn),\n",
        "    FOREIGN KEY (Pno) REFERENCES PROJECT(Pnumber)\n",
        ");''')\n",
        "\n",
        "conn.execute('''\n",
        "CREATE TABLE IF NOT EXISTS DEPENDENT (\n",
        "    Essn CHAR(9),\n",
        "    Dependent_name VARCHAR(50),\n",
        "    Sex CHAR(1),\n",
        "    Bdate DATE,\n",
        "    Relationship VARCHAR(25),\n",
        "    PRIMARY KEY (Essn, Dependent_name),\n",
        "    FOREIGN KEY (Essn) REFERENCES EMPLOYEE(Ssn)\n",
        ");''')\n",
        "\n",
        "conn.commit()\n",
        "\n",
        "print(\"Tables created successfully\");"
      ]
    },
    {
      "cell_type": "code",
      "execution_count": null,
      "metadata": {
        "id": "rlSdosLAV2yW"
      },
      "outputs": [
        {
          "data": {
            "text/plain": [
              "<sqlite3.Cursor at 0x1b542e29440>"
            ]
          },
          "execution_count": 17,
          "metadata": {},
          "output_type": "execute_result"
        }
      ],
      "source": [
        "# popula o banco\n",
        "# conn.execute('''\n",
        "# INSERT INTO DEPARTMENT (Dname, Dnumber, Mgr_ssn, Mgr_start_date) VALUES\n",
        "# ('Research', 5, Null, '2020-05-22'), -- '333445555'\n",
        "# ('Administration', 4, Null, '2018-01-01'), -- '987654321'\n",
        "# ('Headquarters', 1, Null, '2010-06-19'); -- '888665555'\n",
        "# ''')\n",
        "\n",
        "# conn.execute('''\n",
        "# INSERT INTO EMPLOYEE (Fname, Minit, Lname, Ssn, Bdate, Address, Sex, Salary, Super_ssn, Dno) VALUES \n",
        "# ('James', 'E', 'Borg', '888665555', '1937-11-10', '450 Stone, Houston, TX', 'M', 55000, NULL, 1),\n",
        "# ('Franklin', 'T', 'Wong', '333445555', '1955-12-08', '638 Voss, Houston, TX', 'M', 40000, '888665555', 5),\n",
        "# ('John', 'B', 'Smith', '123456789', '1965-01-09', '731 Fondren, Houston, TX', 'M', 30000, '333445555', 5),\n",
        "# ('Jennifer', 'S', 'Wallace', '987654321', '1941-06-20', '291 Berry, Bellaire, TX', 'F', 43000, '888665555', 4),\n",
        "# ('Alicia', 'J', 'Zelaya', '999887777', '1968-01-19', '3321 Castle, Spring, TX', 'F', 25000, '987654321', 4),\n",
        "# ('Ramesh', 'K', 'Narayan', '666884444', '1962-09-15', '975 Fire Oak, Humble, TX', 'M', 38000, '333445555', 5),\n",
        "# ('Joyce', 'A', 'English', '453453453', '1972-07-31', '5631 Rice, Houston, TX', 'F', 25000, '333445555', 5),\n",
        "# ('Ahmad', 'V', 'Jabbar', '987987987', '1969-03-29', '980 Dallas, Houston, TX', 'M', 25000, '333445555', 5);\n",
        "# ''')\n",
        "\n",
        "# conn.execute('''\n",
        "# UPDATE DEPARTMENT\n",
        "# SET Mgr_ssn = '333445555'\n",
        "# WHERE Dnumber = 5;\n",
        "# ''')\n",
        "\n",
        "# conn.execute('''\n",
        "# UPDATE DEPARTMENT\n",
        "# SET Mgr_ssn = '987654321'\n",
        "# WHERE Dnumber = 4;\n",
        "# ''')\n",
        "\n",
        "\n",
        "# conn.execute('''\n",
        "# UPDATE DEPARTMENT\n",
        "# SET Mgr_ssn = '888665555'\n",
        "# WHERE Dnumber = 1;\n",
        "# ''')\n",
        "\n",
        "# conn.execute('''\n",
        "# INSERT INTO DEPT_LOCATIONS (Dnumber, Dlocation) VALUES\n",
        "# (1, 'Houston'),\n",
        "# (4, 'Stafford'),\n",
        "# (5, 'Bellaire'),\n",
        "# (5, 'Sugarland'),\n",
        "# (5, 'Houston');\n",
        "# ''')\n",
        "\n",
        "# conn.execute('''\n",
        "# INSERT INTO PROJECT (Pname, Pnumber, Plocation, Dnum) VALUES\n",
        "# ('ProductX', 1, 'Bellaire', 5),\n",
        "# ('ProductY', 2, 'Sugarland', 5),\n",
        "# ('ProductZ', 3, 'Houston', 5),\n",
        "# ('Computerization', 10, 'Stafford', 4),\n",
        "# ('Reorganization', 20, 'Houston', 1),\n",
        "# ('Newbenefits', 30, 'Stafford', 4);\n",
        "# ''')\n",
        "\n",
        "# conn.execute('''\n",
        "# INSERT INTO WORKS_ON (Essn, Pno, Hours) VALUES\n",
        "# ('123456789', 1, 32.5),\n",
        "# ('123456789', 2, 7.5),\n",
        "# ('666884444', 3, 40.0),\n",
        "# ('453453453', 1, 20.0),\n",
        "# ('453453453', 2, 20.0),\n",
        "# ('333445555', 2, 10.0),\n",
        "# ('333445555', 3, 10.0),\n",
        "# ('333445555', 10, 10.0),\n",
        "# ('333445555', 20, 10.0),\n",
        "# ('999887777', 30, 30.0),\n",
        "# ('987987987', 10, 35.0),\n",
        "# ('987987987', 30, 5.0),\n",
        "# ('987654321', 30, 20.0),\n",
        "# ('987654321', 20, 15.0);\n",
        "# ''')\n",
        "\n",
        "\n",
        "# conn.execute('''\n",
        "# INSERT INTO DEPENDENT (Essn, Dependent_name, Sex, Bdate, Relationship) VALUES\n",
        "# ('123456789', 'Alice', 'F', '1986-04-05', 'Daughter'),\n",
        "# ('123456789', 'Theodore', 'M', '1983-10-25', 'Son'),\n",
        "# ('123456789', 'Joy', 'F', '1958-05-03', 'Spouse'),\n",
        "# ('987654321', 'Abner', 'M', '1942-02-28', 'Spouse'),\n",
        "# ('333445555', 'Michael', 'M', '1988-01-04', 'Son'),\n",
        "# ('333445555', 'Alice', 'F', '1988-12-30', 'Daughter'),\n",
        "# ('333445555', 'Elizabeth', 'F', '1967-05-05', 'Spouse');\n",
        "# ''')\n"
      ]
    },
    {
      "cell_type": "code",
      "execution_count": 18,
      "metadata": {},
      "outputs": [
        {
          "data": {
            "text/plain": [
              "[('Research', 5, '333445555', '2020-05-22'),\n",
              " ('Administration', 4, '987654321', '2018-01-01'),\n",
              " ('Headquarters', 1, '888665555', '2010-06-19')]"
            ]
          },
          "execution_count": 18,
          "metadata": {},
          "output_type": "execute_result"
        }
      ],
      "source": [
        "res = conn.execute(\"SELECT * FROM DEPARTMENT\")\n",
        "res.fetchall()"
      ]
    }
  ],
  "metadata": {
    "colab": {
      "provenance": []
    },
    "kernelspec": {
      "display_name": "myEnv",
      "language": "python",
      "name": "python3"
    },
    "language_info": {
      "codemirror_mode": {
        "name": "ipython",
        "version": 3
      },
      "file_extension": ".py",
      "mimetype": "text/x-python",
      "name": "python",
      "nbconvert_exporter": "python",
      "pygments_lexer": "ipython3",
      "version": "3.12.4"
    }
  },
  "nbformat": 4,
  "nbformat_minor": 0
}
